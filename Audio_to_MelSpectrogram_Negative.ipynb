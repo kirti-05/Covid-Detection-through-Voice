{
 "cells": [
  {
   "cell_type": "code",
   "execution_count": null,
   "metadata": {},
   "outputs": [],
   "source": [
    "Dbase='D:/Minor_Project_New/Databse_Negative'\n",
    "MELS='D:/Minor_Project_New/Our_data_negative'\n",
    "\n",
    "with open('D:/Minor_Project_New/DataBase_Entries_negative.csv', newline='') as csvfile:"
   ]
  },
  {
   "cell_type": "code",
   "execution_count": 5,
   "metadata": {},
   "outputs": [
    {
     "name": "stdout",
     "output_type": "stream",
     "text": [
      "0EAAFsDWfTcrhktHy78LS6nf19G3\n",
      "0eQAE4NgLUWYqAaMuWoO4XgIgvF2\n",
      "0gB18cWHioTobGuU3qVE0QV5mBN2\n",
      "0Ha52POVIxTKEPqI1eGpIoMHUd52\n",
      "0KOy96zEUfdMY4rZzwrDT0gMPDa2\n",
      "0kQAWAGJHffg9kZhji65QkUaEvx1\n",
      "0M4YhLM7FwWO5IjCqhi7MlBhvJv2\n",
      "0RHdUsu2qFMmG4dhpJd1NqM5ZTC2\n",
      "0Rlzhiz6bybk77wdLjxwy7yLDhg1\n",
      "0Rlzhiz6bybk77wdLjxwy7yLDhg1\n",
      "0VpjgRGE5kR8uTEhksBgvFR3xlA2\n",
      "3VCMGx9M1tTUiEcjERCBG6iC1Ko1\n",
      "3W9lHLbMzRVftjy3sxNnXwOTy6q1\n",
      "3xebjLX0tvTb7LwpMw7QiNixBln2\n",
      "4achmXwhZ6UIFduMW6ShHrJpRPV2\n",
      "4drDZUlQcteX5StlFT2CXEL0N0L2\n",
      "4pSWWWdAaUd7s2dh6eXaaXeSLIO2\n",
      "4wRQbTA56AgZ27o7Yq6oVWUzR7A3\n",
      "Divya\n",
      "Kaushalendra\n"
     ]
    }
   ],
   "source": [
    "import os\n",
    "import matplotlib\n",
    "matplotlib.use('Agg') # No pictures displayed \n",
    "import pylab\n",
    "import librosa\n",
    "import librosa.display\n",
    "import numpy as np\n",
    "import pathlib\n",
    "import shutil\n",
    "import csv\n",
    "Dbase='D:/Minor_Project_New/Databse_Negative'\n",
    "MELS='D:/Minor_Project_New/Our_data_negative'\n",
    "\n",
    "with open('D:/Minor_Project_New/DataBase_Entries_negative.csv', newline='') as csvfile:\n",
    " data = csv.DictReader(csvfile)\n",
    " for row in data:\n",
    "     \n",
    "     name=row['Name']\n",
    "     loc1= Dbase+'/'+name+'/'\n",
    "     \n",
    "   \n",
    "     print(name)\n",
    "     for filename in os.listdir(loc1):\n",
    "         audioname= loc1+filename\n",
    "         y, sr = librosa.load(audioname,sr=8000)\n",
    "         pylab.axis('off') # no axis\n",
    "         pylab.axes([0., 0., 1., 1.], frameon=False, xticks=[], yticks=[]) # Remove the white edge\n",
    "         S = librosa.feature.melspectrogram(y, sr=sr)\n",
    "         librosa.display.specshow(librosa.power_to_db(S, ref=np.max))\n",
    "         loc2= MELS+'/'+filename+'/'\n",
    "         if not os.path.exists(loc2):\n",
    "             os.makedirs(loc2)\n",
    "         fname=loc2+'/'+name+'.png'\n",
    "         pylab.savefig(fname,bbox_inches=None, pad_inches=0)\n",
    "         pylab.close()"
   ]
  },
  {
   "cell_type": "code",
   "execution_count": null,
   "metadata": {},
   "outputs": [],
   "source": []
  }
 ],
 "metadata": {
  "kernelspec": {
   "display_name": "Python 3",
   "language": "python",
   "name": "python3"
  },
  "language_info": {
   "codemirror_mode": {
    "name": "ipython",
    "version": 3
   },
   "file_extension": ".py",
   "mimetype": "text/x-python",
   "name": "python",
   "nbconvert_exporter": "python",
   "pygments_lexer": "ipython3",
   "version": "3.8.5"
  }
 },
 "nbformat": 4,
 "nbformat_minor": 4
}
